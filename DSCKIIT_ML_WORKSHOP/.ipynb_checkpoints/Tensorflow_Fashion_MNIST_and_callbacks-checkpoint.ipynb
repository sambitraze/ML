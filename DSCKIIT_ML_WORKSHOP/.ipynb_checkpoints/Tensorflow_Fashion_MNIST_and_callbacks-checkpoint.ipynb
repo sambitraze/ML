{
 "cells": [
  {
   "cell_type": "code",
   "execution_count": 2,
   "metadata": {
    "colab": {
     "base_uri": "https://localhost:8080/",
     "height": 205
    },
    "colab_type": "code",
    "id": "ioLbtB3uGKPX",
    "outputId": "65234e80-3dff-46a4-e513-a32bbd0ecf46"
   },
   "outputs": [],
   "source": [
    "try:\n",
    "  # %tensorflow_version only exists in Colab.\n",
    "  %tensorflow_version 2.x\n",
    "except Exception:\n",
    "  pass\n",
    "!pip show tensorflow"
   ]
  },
  {
   "cell_type": "markdown",
   "metadata": {
    "colab_type": "text",
    "id": "yT4ERVjPJAq-"
   },
   "source": [
    "## Fashion MNIST"
   ]
  },
  {
   "cell_type": "code",
   "execution_count": 0,
   "metadata": {
    "colab": {},
    "colab_type": "code",
    "id": "sYaWxrvW-M1H"
   },
   "outputs": [],
   "source": [
    "#All the important tools are imported here\n",
    "\n",
    "import tensorflow as tf\n",
    "import numpy as np\n",
    "from tensorflow import keras"
   ]
  },
  {
   "cell_type": "code",
   "execution_count": 0,
   "metadata": {
    "colab": {
     "base_uri": "https://localhost:8080/",
     "height": 151
    },
    "colab_type": "code",
    "id": "F9s8Pie5-4zh",
    "outputId": "eeed886c-49ea-4637-8b2f-c19440d38688"
   },
   "outputs": [
    {
     "name": "stdout",
     "output_type": "stream",
     "text": [
      "Downloading data from https://storage.googleapis.com/tensorflow/tf-keras-datasets/train-labels-idx1-ubyte.gz\n",
      "32768/29515 [=================================] - 0s 0us/step\n",
      "Downloading data from https://storage.googleapis.com/tensorflow/tf-keras-datasets/train-images-idx3-ubyte.gz\n",
      "26427392/26421880 [==============================] - 0s 0us/step\n",
      "Downloading data from https://storage.googleapis.com/tensorflow/tf-keras-datasets/t10k-labels-idx1-ubyte.gz\n",
      "8192/5148 [===============================================] - 0s 0us/step\n",
      "Downloading data from https://storage.googleapis.com/tensorflow/tf-keras-datasets/t10k-images-idx3-ubyte.gz\n",
      "4423680/4422102 [==============================] - 0s 0us/step\n"
     ]
    }
   ],
   "source": [
    "#The dataset is imported from tf datasets\n",
    "f_mnist = keras.datasets.fashion_mnist\n",
    "#Spliiting the dadaset\n",
    "(train_img,train_l),(test_img,test_l)=f_mnist.load_data()"
   ]
  },
  {
   "cell_type": "code",
   "execution_count": 0,
   "metadata": {
    "colab": {
     "base_uri": "https://localhost:8080/",
     "height": 50
    },
    "colab_type": "code",
    "id": "ntP7LsC9_Mcw",
    "outputId": "470451dd-ee72-4d6f-b3f2-ec88d75d8ca6"
   },
   "outputs": [
    {
     "name": "stdout",
     "output_type": "stream",
     "text": [
      "(10000, 28, 28)\n",
      "(60000, 28, 28)\n"
     ]
    }
   ],
   "source": [
    "#The shape of the splitted dataset \n",
    "print(test_img.shape)\n",
    "print(train_img.shape)\n"
   ]
  },
  {
   "cell_type": "code",
   "execution_count": 0,
   "metadata": {
    "colab": {
     "base_uri": "https://localhost:8080/",
     "height": 594
    },
    "colab_type": "code",
    "id": "fQIfab4jA_up",
    "outputId": "c1b00e65-d3c2-43d7-ad40-1e653be2a211"
   },
   "outputs": [
    {
     "data": {
      "image/png": "[encoded data removed]",
      "text/plain": [
       "<Figure size 1440x720 with 9 Axes>"
      ]
     },
     "metadata": {
      "tags": []
     },
     "output_type": "display_data"
    }
   ],
   "source": [
    "#Some of the images\n",
    "import matplotlib.pyplot as plt\n",
    "\n",
    "fig = plt.figure(figsize=(20,10))\n",
    "\n",
    "for idx in range(9):\n",
    "    ax = fig.add_subplot(3,3,idx+1,xticks=[],yticks=[])\n",
    "    plt.imshow(train_img[idx])\n",
    "    ax.set_title(int(train_l[idx]))"
   ]
  },
  {
   "cell_type": "code",
   "execution_count": 0,
   "metadata": {
    "colab": {},
    "colab_type": "code",
    "id": "HoZ6oo3OA_dc"
   },
   "outputs": [],
   "source": [
    "#grayscaling the images\n",
    "train_img = train_img/255.0\n",
    "test_img = test_img/255.0"
   ]
  },
  {
   "cell_type": "code",
   "execution_count": 0,
   "metadata": {
    "colab": {},
    "colab_type": "code",
    "id": "H80bMOTK_Qjs"
   },
   "outputs": [],
   "source": [
    "\n",
    "model = keras.Sequential([\n",
    "                          keras.layers.Flatten(input_shape=(28,28)),\n",
    "                          keras.layers.Dense(128,activation=tf.nn.relu),\n",
    "                          keras.layers.Dense(10,activation=tf.nn.softmax)\n",
    "])"
   ]
  },
  {
   "cell_type": "code",
   "execution_count": 0,
   "metadata": {
    "colab": {},
    "colab_type": "code",
    "id": "QiOALjpPEajE"
   },
   "outputs": [],
   "source": [
    "model.compile(optimizer='adam',loss='sparse_categorical_crossentropy',metrics=['accuracy'])"
   ]
  },
  {
   "cell_type": "code",
   "execution_count": 0,
   "metadata": {
    "colab": {
     "base_uri": "https://localhost:8080/",
     "height": 386
    },
    "colab_type": "code",
    "id": "7lUN4wysFA1C",
    "outputId": "317fb546-8940-49af-8dd4-0f953fe13be0"
   },
   "outputs": [
    {
     "name": "stdout",
     "output_type": "stream",
     "text": [
      "Train on 60000 samples\n",
      "Epoch 1/10\n",
      "60000/60000 [==============================] - 5s 79us/sample - loss: 0.0822 - acc: 0.9695\n",
      "Epoch 2/10\n",
      "60000/60000 [==============================] - 5s 78us/sample - loss: 0.0780 - acc: 0.9706\n",
      "Epoch 3/10\n",
      "60000/60000 [==============================] - 5s 83us/sample - loss: 0.0759 - acc: 0.9707\n",
      "Epoch 4/10\n",
      "60000/60000 [==============================] - 5s 78us/sample - loss: 0.0740 - acc: 0.9720\n",
      "Epoch 5/10\n",
      "60000/60000 [==============================] - 5s 79us/sample - loss: 0.0748 - acc: 0.9719\n",
      "Epoch 6/10\n",
      "60000/60000 [==============================] - 5s 79us/sample - loss: 0.0734 - acc: 0.9722\n",
      "Epoch 7/10\n",
      "60000/60000 [==============================] - 5s 78us/sample - loss: 0.0730 - acc: 0.9723\n",
      "Epoch 8/10\n",
      "60000/60000 [==============================] - 5s 77us/sample - loss: 0.0693 - acc: 0.9739\n",
      "Epoch 9/10\n",
      "60000/60000 [==============================] - 5s 79us/sample - loss: 0.0672 - acc: 0.9743\n",
      "Epoch 10/10\n",
      "60000/60000 [==============================] - 5s 79us/sample - loss: 0.0683 - acc: 0.9742\n"
     ]
    },
    {
     "data": {
      "text/plain": [
       "<tensorflow.python.keras.callbacks.History at 0x7f783c994400>"
      ]
     },
     "execution_count": 13,
     "metadata": {
      "tags": []
     },
     "output_type": "execute_result"
    }
   ],
   "source": [
    "model.fit(train_img,train_l,epochs=10)"
   ]
  },
  {
   "cell_type": "code",
   "execution_count": 0,
   "metadata": {
    "colab": {
     "base_uri": "https://localhost:8080/",
     "height": 50
    },
    "colab_type": "code",
    "id": "Yq2cMnUJGUMu",
    "outputId": "52a43816-356b-412b-c2da-7939bb39ed63"
   },
   "outputs": [
    {
     "name": "stdout",
     "output_type": "stream",
     "text": [
      "10000/10000 [==============================] - 1s 55us/sample - loss: 0.6530 - acc: 0.8943\n"
     ]
    },
    {
     "data": {
      "text/plain": [
       "[0.6529768907668069, 0.8943]"
      ]
     },
     "execution_count": 14,
     "metadata": {
      "tags": []
     },
     "output_type": "execute_result"
    }
   ],
   "source": [
    "model.evaluate(test_img,test_l)"
   ]
  },
  {
   "cell_type": "code",
   "execution_count": 0,
   "metadata": {
    "colab": {
     "base_uri": "https://localhost:8080/",
     "height": 252
    },
    "colab_type": "code",
    "id": "uyENX-2qGrU_",
    "outputId": "5ae6950e-6569-48f8-f85b-94421702274f"
   },
   "outputs": [
    {
     "name": "stdout",
     "output_type": "stream",
     "text": [
      "Model: \"sequential\"\n",
      "_________________________________________________________________\n",
      "Layer (type)                 Output Shape              Param #   \n",
      "=================================================================\n",
      "flatten (Flatten)            multiple                  0         \n",
      "_________________________________________________________________\n",
      "dense (Dense)                multiple                  401920    \n",
      "_________________________________________________________________\n",
      "dense_1 (Dense)              multiple                  5130      \n",
      "=================================================================\n",
      "Total params: 407,050\n",
      "Trainable params: 407,050\n",
      "Non-trainable params: 0\n",
      "_________________________________________________________________\n"
     ]
    }
   ],
   "source": [
    "model.summary()"
   ]
  },
  {
   "cell_type": "markdown",
   "metadata": {
    "colab_type": "text",
    "id": "mU6LSpVkIvjU"
   },
   "source": [
    "# **Callbacks**"
   ]
  },
  {
   "cell_type": "code",
   "execution_count": 0,
   "metadata": {
    "colab": {
     "base_uri": "https://localhost:8080/",
     "height": 1000
    },
    "colab_type": "code",
    "id": "pkaEHHgqZbYv",
    "outputId": "8af81de1-d48f-4eb9-8aae-b0a7752b5d6d"
   },
   "outputs": [
    {
     "name": "stdout",
     "output_type": "stream",
     "text": [
      "1.15.0\n",
      "Train on 60000 samples\n",
      "Epoch 1/50\n",
      "60000/60000 [==============================] - 5s 79us/sample - loss: 0.4721 - acc: 0.8307\n",
      "Epoch 2/50\n",
      "60000/60000 [==============================] - 5s 81us/sample - loss: 0.3575 - acc: 0.8700\n",
      "Epoch 3/50\n",
      "60000/60000 [==============================] - 5s 77us/sample - loss: 0.3212 - acc: 0.8828\n",
      "Epoch 4/50\n",
      "60000/60000 [==============================] - 5s 80us/sample - loss: 0.2971 - acc: 0.8899\n",
      "Epoch 5/50\n",
      "60000/60000 [==============================] - 5s 77us/sample - loss: 0.2800 - acc: 0.8956\n",
      "Epoch 6/50\n",
      "60000/60000 [==============================] - 5s 79us/sample - loss: 0.2642 - acc: 0.9027\n",
      "Epoch 7/50\n",
      "60000/60000 [==============================] - 5s 79us/sample - loss: 0.2514 - acc: 0.9061\n",
      "Epoch 8/50\n",
      "60000/60000 [==============================] - 5s 78us/sample - loss: 0.2407 - acc: 0.9099\n",
      "Epoch 9/50\n",
      "60000/60000 [==============================] - 5s 79us/sample - loss: 0.2299 - acc: 0.9140\n",
      "Epoch 10/50\n",
      "60000/60000 [==============================] - 5s 80us/sample - loss: 0.2210 - acc: 0.9165\n",
      "Epoch 11/50\n",
      "60000/60000 [==============================] - 5s 77us/sample - loss: 0.2121 - acc: 0.9203\n",
      "Epoch 12/50\n",
      "60000/60000 [==============================] - 5s 77us/sample - loss: 0.2037 - acc: 0.9225\n",
      "Epoch 13/50\n",
      "60000/60000 [==============================] - 5s 77us/sample - loss: 0.1993 - acc: 0.9253\n",
      "Epoch 14/50\n",
      "60000/60000 [==============================] - 5s 80us/sample - loss: 0.1908 - acc: 0.9288\n",
      "Epoch 15/50\n",
      "60000/60000 [==============================] - 5s 79us/sample - loss: 0.1848 - acc: 0.9306\n",
      "Epoch 16/50\n",
      "60000/60000 [==============================] - 5s 79us/sample - loss: 0.1791 - acc: 0.9327\n",
      "Epoch 17/50\n",
      "60000/60000 [==============================] - 5s 78us/sample - loss: 0.1731 - acc: 0.9360\n",
      "Epoch 18/50\n",
      "60000/60000 [==============================] - 5s 81us/sample - loss: 0.1672 - acc: 0.9370\n",
      "Epoch 19/50\n",
      "60000/60000 [==============================] - 5s 76us/sample - loss: 0.1632 - acc: 0.9387\n",
      "Epoch 20/50\n",
      "60000/60000 [==============================] - 5s 78us/sample - loss: 0.1556 - acc: 0.9415\n",
      "Epoch 21/50\n",
      "60000/60000 [==============================] - 5s 79us/sample - loss: 0.1515 - acc: 0.9426\n",
      "Epoch 22/50\n",
      "60000/60000 [==============================] - 5s 80us/sample - loss: 0.1488 - acc: 0.9435\n",
      "Epoch 23/50\n",
      "60000/60000 [==============================] - 5s 78us/sample - loss: 0.1452 - acc: 0.9449\n",
      "Epoch 24/50\n",
      "60000/60000 [==============================] - 5s 76us/sample - loss: 0.1415 - acc: 0.9464\n",
      "Epoch 25/50\n",
      "60000/60000 [==============================] - 5s 79us/sample - loss: 0.1360 - acc: 0.9489\n",
      "Epoch 26/50\n",
      "60000/60000 [==============================] - 5s 80us/sample - loss: 0.1324 - acc: 0.9502\n",
      "Epoch 27/50\n",
      "60000/60000 [==============================] - 5s 78us/sample - loss: 0.1301 - acc: 0.9517\n",
      "Epoch 28/50\n",
      "60000/60000 [==============================] - 5s 77us/sample - loss: 0.1267 - acc: 0.9524\n",
      "Epoch 29/50\n",
      "60000/60000 [==============================] - 5s 77us/sample - loss: 0.1222 - acc: 0.9542\n",
      "Epoch 30/50\n",
      "60000/60000 [==============================] - 5s 80us/sample - loss: 0.1228 - acc: 0.9546\n",
      "Epoch 31/50\n",
      "60000/60000 [==============================] - 5s 77us/sample - loss: 0.1172 - acc: 0.9558\n",
      "Epoch 32/50\n",
      "60000/60000 [==============================] - 5s 77us/sample - loss: 0.1184 - acc: 0.9552\n",
      "Epoch 33/50\n",
      "60000/60000 [==============================] - 5s 79us/sample - loss: 0.1131 - acc: 0.9569\n",
      "Epoch 34/50\n",
      "60000/60000 [==============================] - 5s 82us/sample - loss: 0.1098 - acc: 0.9589\n",
      "Epoch 35/50\n",
      "60000/60000 [==============================] - 5s 76us/sample - loss: 0.1077 - acc: 0.9592\n",
      "Epoch 36/50\n",
      "60000/60000 [==============================] - 5s 79us/sample - loss: 0.1078 - acc: 0.9592\n",
      "Epoch 37/50\n",
      "60000/60000 [==============================] - 5s 82us/sample - loss: 0.1036 - acc: 0.9612\n",
      "Epoch 38/50\n",
      "60000/60000 [==============================] - 5s 78us/sample - loss: 0.1024 - acc: 0.9621\n",
      "Epoch 39/50\n",
      "60000/60000 [==============================] - 5s 79us/sample - loss: 0.0993 - acc: 0.9621\n",
      "Epoch 40/50\n",
      "60000/60000 [==============================] - 5s 78us/sample - loss: 0.0957 - acc: 0.9635\n",
      "Epoch 41/50\n",
      "60000/60000 [==============================] - 5s 80us/sample - loss: 0.0978 - acc: 0.9626\n",
      "Epoch 42/50\n",
      "60000/60000 [==============================] - 5s 79us/sample - loss: 0.0938 - acc: 0.9649\n",
      "Epoch 43/50\n",
      "60000/60000 [==============================] - 5s 78us/sample - loss: 0.0937 - acc: 0.9661\n",
      "Epoch 44/50\n",
      "60000/60000 [==============================] - 5s 76us/sample - loss: 0.0885 - acc: 0.9661\n",
      "Epoch 45/50\n",
      "60000/60000 [==============================] - 5s 77us/sample - loss: 0.0888 - acc: 0.9666\n",
      "Epoch 46/50\n",
      "60000/60000 [==============================] - 5s 81us/sample - loss: 0.0854 - acc: 0.9672\n",
      "Epoch 47/50\n",
      "60000/60000 [==============================] - 5s 80us/sample - loss: 0.0831 - acc: 0.9685\n",
      "Epoch 48/50\n",
      "60000/60000 [==============================] - 5s 78us/sample - loss: 0.0863 - acc: 0.9676\n",
      "Epoch 49/50\n",
      "60000/60000 [==============================] - 5s 80us/sample - loss: 0.0801 - acc: 0.9696\n",
      "Epoch 50/50\n",
      "60000/60000 [==============================] - 5s 78us/sample - loss: 0.0801 - acc: 0.9698\n"
     ]
    }
   ],
   "source": [
    "\n",
    "import tensorflow as tf\n",
    "print(tf.__version__)\n",
    "#defining callbacks here.\n",
    "class myCallback(tf.keras.callbacks.Callback):\n",
    "  def on_epoch_end(self, epoch, logs={}):\n",
    "    if(logs.get('loss')>0.97):\n",
    "      print(\"\\nReached 97% accuracy so cancelling training!\")\n",
    "      self.model.stop_training = True\n",
    "#declaring callbacks\n",
    "callbacks = myCallback()\n",
    "mnist = tf.keras.datasets.fashion_mnist\n",
    "(training_images, training_labels), (test_images, test_labels) = mnist.load_data()\n",
    "training_images=training_images/255.0\n",
    "test_images=test_images/255.0\n",
    "model = tf.keras.models.Sequential([\n",
    "  tf.keras.layers.Flatten(),\n",
    "  tf.keras.layers.Dense(512, activation=tf.nn.relu),\n",
    "  tf.keras.layers.Dense(10, activation=tf.nn.softmax)\n",
    "])\n",
    "model.compile(optimizer='adam', loss='sparse_categorical_crossentropy',metrics=['accuracy'])\n",
    "#calling callbacks\n",
    "history=model.fit(training_images, training_labels, epochs=50, callbacks=[callbacks])\n",
    "\n",
    "\n"
   ]
  },
  {
   "cell_type": "code",
   "execution_count": 0,
   "metadata": {
    "colab": {
     "base_uri": "https://localhost:8080/",
     "height": 596
    },
    "colab_type": "code",
    "id": "NRF4ATcjKUBh",
    "outputId": "070a7ebf-68a4-460f-9368-f132094110f5"
   },
   "outputs": [
    {
     "name": "stdout",
     "output_type": "stream",
     "text": [
      "[name: \"/device:CPU:0\"\n",
      "device_type: \"CPU\"\n",
      "memory_limit: 268435456\n",
      "locality {\n",
      "}\n",
      "incarnation: 12815444920948511071\n",
      ", name: \"/device:XLA_CPU:0\"\n",
      "device_type: \"XLA_CPU\"\n",
      "memory_limit: 17179869184\n",
      "locality {\n",
      "}\n",
      "incarnation: 5236001084239939056\n",
      "physical_device_desc: \"device: XLA_CPU device\"\n",
      ", name: \"/device:XLA_GPU:0\"\n",
      "device_type: \"XLA_GPU\"\n",
      "memory_limit: 17179869184\n",
      "locality {\n",
      "}\n",
      "incarnation: 12835776865103790499\n",
      "physical_device_desc: \"device: XLA_GPU device\"\n",
      ", name: \"/device:GPU:0\"\n",
      "device_type: \"GPU\"\n",
      "memory_limit: 15955912295\n",
      "locality {\n",
      "  bus_id: 1\n",
      "  links {\n",
      "  }\n",
      "}\n",
      "incarnation: 9757310133090138583\n",
      "physical_device_desc: \"device: 0, name: Tesla P100-PCIE-16GB, pci bus id: 0000:00:04.0, compute capability: 6.0\"\n",
      "]\n"
     ]
    }
   ],
   "source": [
    "from tensorflow.python.client import device_lib\n",
    "print(device_lib.list_local_devices())"
   ]
  },
  {
   "cell_type": "code",
   "execution_count": 0,
   "metadata": {
    "colab": {
     "base_uri": "https://localhost:8080/",
     "height": 229
    },
    "colab_type": "code",
    "id": "kDScICbRXwQA",
    "outputId": "b2df600a-1318-4e38-9c2a-6905a92915de"
   },
   "outputs": [
    {
     "ename": "KeyError",
     "evalue": "ignored",
     "output_type": "error",
     "traceback": [
      "\u001b[0;31m---------------------------------------------------------------------------\u001b[0m",
      "\u001b[0;31mKeyError\u001b[0m                                  Traceback (most recent call last)",
      "\u001b[0;32m<ipython-input-15-c61351144f03>\u001b[0m in \u001b[0;36m<module>\u001b[0;34m()\u001b[0m\n\u001b[1;32m      2\u001b[0m \u001b[0;32mimport\u001b[0m \u001b[0mmatplotlib\u001b[0m\u001b[0;34m.\u001b[0m\u001b[0mpyplot\u001b[0m \u001b[0;32mas\u001b[0m \u001b[0mplt\u001b[0m\u001b[0;34m\u001b[0m\u001b[0;34m\u001b[0m\u001b[0m\n\u001b[1;32m      3\u001b[0m \u001b[0macc\u001b[0m \u001b[0;34m=\u001b[0m \u001b[0mhistory\u001b[0m\u001b[0;34m.\u001b[0m\u001b[0mhistory\u001b[0m\u001b[0;34m[\u001b[0m\u001b[0;34m'acc'\u001b[0m\u001b[0;34m]\u001b[0m\u001b[0;34m\u001b[0m\u001b[0;34m\u001b[0m\u001b[0m\n\u001b[0;32m----> 4\u001b[0;31m \u001b[0mval_acc\u001b[0m \u001b[0;34m=\u001b[0m \u001b[0mhistory\u001b[0m\u001b[0;34m.\u001b[0m\u001b[0mhistory\u001b[0m\u001b[0;34m[\u001b[0m\u001b[0;34m'val_acc'\u001b[0m\u001b[0;34m]\u001b[0m\u001b[0;34m\u001b[0m\u001b[0;34m\u001b[0m\u001b[0m\n\u001b[0m\u001b[1;32m      5\u001b[0m \u001b[0mloss\u001b[0m \u001b[0;34m=\u001b[0m \u001b[0mhistory\u001b[0m\u001b[0;34m.\u001b[0m\u001b[0mhistory\u001b[0m\u001b[0;34m[\u001b[0m\u001b[0;34m'loss'\u001b[0m\u001b[0;34m]\u001b[0m\u001b[0;34m\u001b[0m\u001b[0;34m\u001b[0m\u001b[0m\n\u001b[1;32m      6\u001b[0m \u001b[0mval_loss\u001b[0m \u001b[0;34m=\u001b[0m \u001b[0mhistory\u001b[0m\u001b[0;34m.\u001b[0m\u001b[0mhistory\u001b[0m\u001b[0;34m[\u001b[0m\u001b[0;34m'val_loss'\u001b[0m\u001b[0;34m]\u001b[0m\u001b[0;34m\u001b[0m\u001b[0;34m\u001b[0m\u001b[0m\n",
      "\u001b[0;31mKeyError\u001b[0m: 'val_acc'"
     ]
    }
   ],
   "source": [
    "\n"
   ]
  }
 ],
 "metadata": {
  "accelerator": "GPU",
  "colab": {
   "collapsed_sections": [],
   "name": "Tensorflow_Fashion MNIST and callbacks.ipynb",
   "provenance": [],
   "toc_visible": true
  },
  "kernelspec": {
   "display_name": "Python 3",
   "language": "python",
   "name": "python3"
  },
  "language_info": {
   "codemirror_mode": {
    "name": "ipython",
    "version": 3
   },
   "file_extension": ".py",
   "mimetype": "text/x-python",
   "name": "python",
   "nbconvert_exporter": "python",
   "pygments_lexer": "ipython3",
   "version": "3.7.4"
  }
 },
 "nbformat": 4,
 "nbformat_minor": 1
}
